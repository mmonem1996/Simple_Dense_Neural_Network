{
  "nbformat": 4,
  "nbformat_minor": 0,
  "metadata": {
    "colab": {
      "name": "Fully Connected Layers - Backpropagation.ipynb",
      "provenance": [],
      "collapsed_sections": [],
      "toc_visible": true,
      "authorship_tag": "ABX9TyNHWuo/3CCmUy2nMb1jUfYf",
      "include_colab_link": true
    },
    "kernelspec": {
      "name": "python3",
      "display_name": "Python 3"
    },
    "accelerator": "GPU"
  },
  "cells": [
    {
      "cell_type": "markdown",
      "metadata": {
        "id": "view-in-github",
        "colab_type": "text"
      },
      "source": [
        "<a href=\"https://colab.research.google.com/github/mmonem1996/Simple_Dense_Neural_Network/blob/main/Fully_Connected_Layers_Backpropagation.ipynb\" target=\"_parent\"><img src=\"https://colab.research.google.com/assets/colab-badge.svg\" alt=\"Open In Colab\"/></a>"
      ]
    },
    {
      "cell_type": "markdown",
      "metadata": {
        "id": "KtUwznSmiAM8"
      },
      "source": [
        "# Backpropagation Algorithm for Fully Connected Neural Network\r\n",
        "The below code implement a simple algorithm for training a fully connected layers of a neural network via ***NeuralNetwork*** class.\r\n",
        "\r\n",
        "The code moves then to apply this class in a simple classification task of idnetifying MNIST hand-written digits.\r\n",
        "\r\n",
        "\r\n"
      ]
    },
    {
      "cell_type": "code",
      "metadata": {
        "id": "NzN7K_V56qcQ"
      },
      "source": [
        "import cupy as np # using GPU CUDA features, substitute to numpy to use CPU\r\n",
        "from urllib.request import urlretrieve\r\n",
        "import gzip, json\r\n",
        "from IPython.display import clear_output\r\n",
        "from google.colab import drive\r\n",
        "from shutil import copyfile\r\n",
        "import sklearn.metrics as skm\r\n",
        "import pandas as pd"
      ],
      "execution_count": null,
      "outputs": []
    },
    {
      "cell_type": "code",
      "metadata": {
        "id": "Hd5VvFry7PFc"
      },
      "source": [
        "from matplotlib import pyplot as plt \r\n",
        "%matplotlib inline"
      ],
      "execution_count": null,
      "outputs": []
    },
    {
      "cell_type": "code",
      "metadata": {
        "id": "cabgF7vcBPHL",
        "colab": {
          "base_uri": "https://localhost:8080/"
        },
        "outputId": "c14ff7b2-f8d3-44de-8e5d-d88647427a90"
      },
      "source": [
        "drive.mount('/content/gdrive/')"
      ],
      "execution_count": null,
      "outputs": [
        {
          "output_type": "stream",
          "text": [
            "Mounted at /content/gdrive/\n"
          ],
          "name": "stdout"
        }
      ]
    },
    {
      "cell_type": "markdown",
      "metadata": {
        "id": "iJKsLGflBWMl"
      },
      "source": [
        "## Downloading Datasets"
      ]
    },
    {
      "cell_type": "code",
      "metadata": {
        "colab": {
          "base_uri": "https://localhost:8080/"
        },
        "id": "azw0sS38GNck",
        "outputId": "dcced189-8eaf-48ae-b74e-2411d789adc6"
      },
      "source": [
        "# downloading training datasets\r\n",
        "training_images = 'http://yann.lecun.com/exdb/mnist/train-images-idx3-ubyte.gz'\r\n",
        "training_labels = 'http://yann.lecun.com/exdb/mnist/train-labels-idx1-ubyte.gz'\r\n",
        "urlretrieve(training_images, '/content/training_images.gz')\r\n",
        "urlretrieve(training_labels, '/content/training_labels.gz')"
      ],
      "execution_count": null,
      "outputs": [
        {
          "output_type": "execute_result",
          "data": {
            "text/plain": [
              "('/content/training_labels.gz', <http.client.HTTPMessage at 0x7fe3ec1f03c8>)"
            ]
          },
          "metadata": {
            "tags": []
          },
          "execution_count": 7
        }
      ]
    },
    {
      "cell_type": "code",
      "metadata": {
        "id": "2CXShp7KH6BZ"
      },
      "source": [
        "# unzipping training data\r\n",
        "with gzip.open('/content/training_images.gz', 'rb') as zfile:\r\n",
        "  with open('/content/train-images.idx3-ubyte', 'wb') as decompressed:\r\n",
        "    decompressed.write(zfile.read())\r\n",
        "\r\n",
        "with gzip.open('/content/training_labels.gz', 'rb') as zfile:\r\n",
        "  with open('/content/train-labels.idx1-ubyte', 'wb') as decompressed:\r\n",
        "    decompressed.write(zfile.read())"
      ],
      "execution_count": null,
      "outputs": []
    },
    {
      "cell_type": "code",
      "metadata": {
        "colab": {
          "base_uri": "https://localhost:8080/"
        },
        "id": "PDYGFvnLDdeV",
        "outputId": "52bce953-3532-4036-8b72-f06b24152e41"
      },
      "source": [
        "# downloading testing datasets\r\n",
        "testing_images = 'http://yann.lecun.com/exdb/mnist/t10k-images-idx3-ubyte.gz'\r\n",
        "testing_labels = 'http://yann.lecun.com/exdb/mnist/t10k-labels-idx1-ubyte.gz'\r\n",
        "urlretrieve(testing_images, '/content/testing_images.gz')\r\n",
        "urlretrieve(testing_labels, '/content/testing_labels.gz')"
      ],
      "execution_count": null,
      "outputs": [
        {
          "output_type": "execute_result",
          "data": {
            "text/plain": [
              "('/content/testing_labels.gz', <http.client.HTTPMessage at 0x7f101fbaefd0>)"
            ]
          },
          "metadata": {
            "tags": []
          },
          "execution_count": 11
        }
      ]
    },
    {
      "cell_type": "code",
      "metadata": {
        "id": "iYrwDGYoD-oo"
      },
      "source": [
        "# unzipping testing data\r\n",
        "with gzip.open('/content/testing_images.gz', 'rb') as zfile:\r\n",
        "  with open('/content/tk10-images.idx3-ubyte', 'wb') as decompressed:\r\n",
        "    decompressed.write(zfile.read())\r\n",
        "\r\n",
        "with gzip.open('/content/testing_labels.gz', 'rb') as zfile:\r\n",
        "  with open('/content/tk10-labels.idx1-ubyte', 'wb') as decompressed:\r\n",
        "    decompressed.write(zfile.read())"
      ],
      "execution_count": null,
      "outputs": []
    },
    {
      "cell_type": "markdown",
      "metadata": {
        "id": "jzf3yn8fBzHp"
      },
      "source": [
        "## Auxilary functions"
      ]
    },
    {
      "cell_type": "code",
      "metadata": {
        "id": "V6_0awLQ723k"
      },
      "source": [
        "# activation functions\r\n",
        "logistic = lambda z : 1 / (1 + np.exp(-1 * z))   \r\n",
        "dlogistic = lambda z : np.cosh(z / 2) ** (-2) / 4\r\n",
        "\r\n",
        "linear = lambda z: z\r\n",
        "dlinear = lambda z: np.ones_like(z)\r\n",
        "\r\n",
        "tanh = lambda z: np.tanh(z)\r\n",
        "dtanh = lambda z: 1 - (np.tanh(z)**2)\r\n",
        "# These 3 lines are for getting the naming right when later serializing the weights and biases in a file\r\n",
        "logistic.__name__ = 'logistic'\r\n",
        "linear.__name__ = 'linear'\r\n",
        "tanh.__name__ = 'tanh'"
      ],
      "execution_count": null,
      "outputs": []
    },
    {
      "cell_type": "code",
      "metadata": {
        "id": "HffJfLbZ8Yli"
      },
      "source": [
        "# the sturcture of idx3 file is discussed in http://yann.lecun.com/exdb/mnist/\r\n",
        "def read_idx3_file_images(file: str):\r\n",
        "  with open(file, 'rb') as idx_file:\r\n",
        "    idx_file.read(4) # reading out the magic number\r\n",
        "    num_of_images = int.from_bytes(idx_file.read(4), 'big')\r\n",
        "    nrows = int.from_bytes(idx_file.read(4), 'big')\r\n",
        "    ncols = int.from_bytes(idx_file.read(4), 'big')\r\n",
        "    images = np.zeros((num_of_images, nrows * ncols), dtype=np.uint8)\r\n",
        "    for i in range(num_of_images):\r\n",
        "      imi_bytes = list(idx_file.read(nrows * ncols))\r\n",
        "      imi = np.array(imi_bytes, dtype=np.uint8)\r\n",
        "      images[i, :] = imi\r\n",
        "  return images, nrows, ncols"
      ],
      "execution_count": null,
      "outputs": []
    },
    {
      "cell_type": "code",
      "metadata": {
        "id": "XM54o8YO8dWS"
      },
      "source": [
        "# the sturcture of idx1 file is discussed in http://yann.lecun.com/exdb/mnist/\r\n",
        "def read_idx1_file_labels(file: str):\r\n",
        "  with open(file, 'rb') as idx_file:\r\n",
        "    idx_file.read(8)\r\n",
        "    labels = list(idx_file.read())\r\n",
        "  return labels"
      ],
      "execution_count": null,
      "outputs": []
    },
    {
      "cell_type": "markdown",
      "metadata": {
        "id": "LZw2f0mTAG-0"
      },
      "source": [
        "## Model Training"
      ]
    },
    {
      "cell_type": "code",
      "metadata": {
        "id": "v5YScjAP7nij"
      },
      "source": [
        "class NeuralNetwork:\r\n",
        "  def __init__(self, layers, sigma, dsigma):\r\n",
        "    self.layers = layers\r\n",
        "    self.layers_list = []\r\n",
        "    self.sigma = sigma\r\n",
        "    self.dsigma = dsigma\r\n",
        "    self.reset_network()\r\n",
        "\r\n",
        "  def reset_network(self):\r\n",
        "    self.layers_list = []\r\n",
        "    prev_layer = self.layers[0]\r\n",
        "    np.random.RandomState(42)\r\n",
        "    for i in range(1, len(self.layers)):\r\n",
        "      layer = self.layers[i]\r\n",
        "      wi = np.random.randn(layer, prev_layer)\r\n",
        "      bi = np.random.randn(layer, 1)\r\n",
        "      prev_layer = layer\r\n",
        "      self.layers_list.append([wi, bi])\r\n",
        "\r\n",
        "  def evaluate_network_function(self, x):\r\n",
        "    ai = np.array(x)\r\n",
        "    assert (len(ai.shape) == 2)\r\n",
        "    a_list = [ai]\r\n",
        "    z_list = []\r\n",
        "    for wi, bi in self.layers_list:\r\n",
        "      zi = wi @ ai + bi\r\n",
        "      ai = self.sigma(zi)\r\n",
        "      z_list.append(zi)\r\n",
        "      a_list.append(ai)\r\n",
        "    return a_list, z_list\r\n",
        "\r\n",
        "  def evaluate_cost(self, x, y):\r\n",
        "    y_hat = self.evaluate_network_function(x)[0][-1]\r\n",
        "    return np.linalg.norm(y - y_hat) ** 2 / x.shape[1]\r\n",
        "\r\n",
        "  def evaluate_gradients(self, x, y):\r\n",
        "    # The gradients formulaes is the below\r\n",
        "    # dC/dwi = dC/dao * [dao/da(o-1) * da(o-1)/da(o-2)*...(da(i+1)/dai)] \r\n",
        "    #         * dai/dzi * dzi/dwi\r\n",
        "    # dC/dbi = dC/dao * [dao/da(o-1) * da(o-1)/da(o-2)*...(da(i+1)/dai)] \r\n",
        "    #         * dai/dzi * dzi/dbi\r\n",
        "    # dzi/dwi = transpose(a_i-1) and dzi/dbi = 1\r\n",
        "    x = np.array(x)\r\n",
        "    y = np.array(y)\r\n",
        "    a_list, z_list = self.evaluate_network_function(x)\r\n",
        "    # This index refer to the output layer\r\n",
        "    olayer_ind = len(self.layers) - 1\r\n",
        "    # the partial derivative of the cost function wrt the output layer vector\r\n",
        "    dC_dao = 2 * (a_list[olayer_ind] - y)\r\n",
        "    # The below list will contain the gradients of the weights and biases and will be returned\r\n",
        "    gradients = []\r\n",
        "    for i in range(olayer_ind, 0, -1):\r\n",
        "      j_wi = dC_dao.copy()\r\n",
        "      # The below loop calculates the derivatives of layers wrt their previous layers and the derivatives will be\r\n",
        "      # consecutively multiplied by gradient j_wi starting from the output layer to the current layer i\r\n",
        "      for j in range(olayer_ind, i, -1):\r\n",
        "          zj = z_list[j - 1]\r\n",
        "          wj = self.layers_list[j - 1][0]\r\n",
        "          j_wi *= self.dsigma(zj)\r\n",
        "          j_wi = wj.T @ j_wi\r\n",
        "\r\n",
        "      zi = z_list[i - 1]\r\n",
        "      j_wi *= self.dsigma(zi)\r\n",
        "      j_bi = j_wi.copy()\r\n",
        "      j_wi = j_wi @ a_list[i - 1].T / x.shape[1]\r\n",
        "      j_bi = np.sum(j_bi, axis=1, keepdims=True) / x.shape[1]\r\n",
        "      gradients.insert(0, [j_wi, j_bi])\r\n",
        "\r\n",
        "    return gradients\r\n",
        "\r\n",
        "  def fit(self, x, y, iterations=10000, aggression=10, update_frequency=1000, verbose=True):\r\n",
        "    # This function update network's weights and biases via Gradient Descent\r\n",
        "    x = np.array(x)\r\n",
        "    y = np.array(y)\r\n",
        "    # these aressertions to prevent matrix mutliplication \r\n",
        "    assert (len(x.shape) == 2)\r\n",
        "    assert (len(y.shape) == 2)\r\n",
        "    # Gradient Descent algorithm\r\n",
        "    for i in range(iterations):\r\n",
        "      grads = self.evaluate_gradients(x, y)\r\n",
        "      for j in range(len(self.layers_list)):\r\n",
        "        self.layers_list[j][0] = self.layers_list[j][0] - aggression * grads[j][0]\r\n",
        "        self.layers_list[j][1] = self.layers_list[j][1] - aggression * grads[j][1]\r\n",
        "      if verbose and (((i + 1) % update_frequency) == 0):\r\n",
        "        cost = self.evaluate_cost(x, y)\r\n",
        "        clear_output(True)\r\n",
        "        print('Iteration %d:\\tCost = %0.4f' % ((i + 1), cost))\r\n",
        "    print('Training is complete!')\r\n",
        "  \r\n",
        "  def get_serialized_filename(self):\r\n",
        "    fmt = '{0}layers_NN_'\r\n",
        "    nHUlayers = len(nn.layers) - 1\r\n",
        "    for i in range(1, nHUlayers):\r\n",
        "      fmt += '{' + f'1[{i}]' + '}_'\r\n",
        "    fmt += 'HU_' + self.sigma.__name__ + '_activation.json'\r\n",
        "    return fmt.format(nHUlayers, nn.layers)\r\n",
        "\r\n",
        "  def serialize(self, filename=None):\r\n",
        "    # Once suitable parameters are reached, it is possible to use this\r\n",
        "    # function to save them in json file\r\n",
        "    if filename is None:\r\n",
        "      filename = self.get_serialized_filename()\r\n",
        "    with open(filename, 'w') as param_file:\r\n",
        "      ser_layer_list = []\r\n",
        "      for wi, bi in self.layers_list:\r\n",
        "        wi = wi.tolist()\r\n",
        "        bi = bi.tolist()\r\n",
        "        ser_layer_list.append([wi, bi])\r\n",
        "      json.dump(ser_layer_list, param_file, indent=2)\r\n",
        "      \r\n",
        "\r\n",
        "  def load_serialized(self, filename=None):\r\n",
        "    # load saved json file\r\n",
        "    if filename is None:\r\n",
        "      filename = self.get_serialized_filename()\r\n",
        "    with open(filename, 'r') as param_file:\r\n",
        "      ser_layer_list = json.load(param_file)\r\n",
        "      self.layers_list = []\r\n",
        "      for wi, bi in ser_layer_list:\r\n",
        "        wi = np.array(wi)\r\n",
        "        bi = np.array(bi)\r\n",
        "        self.layers_list.append([wi, bi])"
      ],
      "execution_count": null,
      "outputs": []
    },
    {
      "cell_type": "code",
      "metadata": {
        "id": "JGxqB9tV8pWh"
      },
      "source": [
        "images, r, c = read_idx3_file_images('/content/train-images.idx3-ubyte')\r\n",
        "labels = read_idx1_file_labels('/content/train-labels.idx1-ubyte')"
      ],
      "execution_count": null,
      "outputs": []
    },
    {
      "cell_type": "code",
      "metadata": {
        "id": "JiNPZmnA-oOC"
      },
      "source": [
        "# modify size_of_dataset as suitable to hardware, max value is 60000\r\n",
        "size_of_dataset = 60000\r\n",
        "x = np.asarray(images.T[:,:size_of_dataset], dtype=np.float)\r\n",
        "x = x / 255\r\n",
        "y = np.zeros((10, size_of_dataset))\r\n",
        "for i in range(size_of_dataset):\r\n",
        "  y[labels[i], i] = 1.0\r\n",
        "del images"
      ],
      "execution_count": null,
      "outputs": []
    },
    {
      "cell_type": "code",
      "metadata": {
        "id": "JpWV0qGV-yFI"
      },
      "source": [
        "\r\n",
        "# print((np.min(x), np.max(x)))\r\n",
        "# x = (x - np.mean(x, axis=0, keepdims=True))/np.std(x, axis=0, keepdims=True)\r\n",
        "nn = NeuralNetwork([28 * 28, 300, 150, 10], logistic, dlogistic)"
      ],
      "execution_count": null,
      "outputs": []
    },
    {
      "cell_type": "code",
      "metadata": {
        "id": "8rjiQ867-1aK"
      },
      "source": [
        "nn.fit(x, y, iterations=60000, update_frequency=10, aggression=3)"
      ],
      "execution_count": null,
      "outputs": []
    },
    {
      "cell_type": "code",
      "metadata": {
        "id": "P2A1bcNbnMYy"
      },
      "source": [
        "grads = nn.evaluate_gradients(x, y)\r\n",
        "for wi, bi in grads:\r\n",
        "  print((np.linalg.norm(wi), (np.linalg.norm(bi))))"
      ],
      "execution_count": null,
      "outputs": []
    },
    {
      "cell_type": "code",
      "metadata": {
        "id": "8lAESs2Uz7jk"
      },
      "source": [
        "test_index = 0\r\n",
        "o0 = nn.evaluate_network_function(x[:, test_index].reshape(-1,1))[0][-1]\r\n",
        "print(np.round_(o0, 4).flatten())\r\n",
        "print(np.round_(y[:, test_index], 4))"
      ],
      "execution_count": null,
      "outputs": []
    },
    {
      "cell_type": "code",
      "metadata": {
        "colab": {
          "base_uri": "https://localhost:8080/"
        },
        "id": "9uN3Y0XQrVmS",
        "outputId": "cdf906ab-916f-4386-cb0d-5287355b80e1"
      },
      "source": [
        "al = nn.evaluate_network_function(x)[0][-1]\r\n",
        "y_pred = np.argmax(al, axis=0).flatten()\r\n",
        "y_true = np.array(labels)\r\n",
        "score = skm.accuracy_score(y_pred.tolist(), y_true.tolist())\r\n",
        "print('Accuracy score: {:.2f}%'.format(100*score))"
      ],
      "execution_count": null,
      "outputs": [
        {
          "output_type": "stream",
          "text": [
            "Accuracy score: 90.53%\n"
          ],
          "name": "stdout"
        }
      ]
    },
    {
      "cell_type": "markdown",
      "metadata": {
        "id": "1w-9VOZP-1k1"
      },
      "source": [
        "---\r\n",
        "## Loading/Unloading NN parameters\r\n",
        "The below cells are for loading. modify it to load from your drive or to directly load from the mounted space without using google.drive module."
      ]
    },
    {
      "cell_type": "code",
      "metadata": {
        "id": "VAWGxHSbBk0b"
      },
      "source": [
        "src = '/content/gdrive/My Drive/Colab Notebooks/neural_networks/' + nn.get_serialized_filename()\r\n",
        "dst = '/content/' + nn.get_serialized_filename()\r\n",
        "copyfile(src, dst)\r\n",
        "nn.load_serialized()"
      ],
      "execution_count": null,
      "outputs": []
    },
    {
      "cell_type": "code",
      "metadata": {
        "id": "pOKJ11gVDJEd",
        "colab": {
          "base_uri": "https://localhost:8080/",
          "height": 35
        },
        "outputId": "f01be869-70ce-4edf-c41d-0bd3399b4bf3"
      },
      "source": [
        "nn.serialize()\r\n",
        "dst = '/content/gdrive/My Drive/Colab Notebooks/neural_networks/' + nn.get_serialized_filename()\r\n",
        "src = '/content/' + nn.get_serialized_filename()\r\n",
        "copyfile(src, dst)"
      ],
      "execution_count": null,
      "outputs": [
        {
          "output_type": "execute_result",
          "data": {
            "application/vnd.google.colaboratory.intrinsic+json": {
              "type": "string"
            },
            "text/plain": [
              "'/content/gdrive/My Drive/Colab Notebooks/neural_networks/3layers_NN_500_150_HU_logistic_activation.json'"
            ]
          },
          "metadata": {
            "tags": []
          },
          "execution_count": 72
        }
      ]
    },
    {
      "cell_type": "markdown",
      "metadata": {
        "id": "qEyaFGj1DYZq"
      },
      "source": [
        "---\r\n",
        "## Model Testing"
      ]
    },
    {
      "cell_type": "code",
      "metadata": {
        "id": "SteKPXe2HfNa"
      },
      "source": [
        "images_test, r, c = read_idx3_file_images('/content/tk10-images.idx3-ubyte')\r\n",
        "labels_test = read_idx1_file_labels('/content/tk10-labels.idx1-ubyte')"
      ],
      "execution_count": null,
      "outputs": []
    },
    {
      "cell_type": "code",
      "metadata": {
        "id": "4TGN2EmwHNCj"
      },
      "source": [
        "# modify size_of_dataset as suitable to hardware, max value is 60000\r\n",
        "xtest = np.asarray(images_test.T[:,:], dtype=np.float)\r\n",
        "xtest = xtest / 255\r\n",
        "ytest = np.zeros((10, len(labels_test)))\r\n",
        "for i in range(len(labels_test)):\r\n",
        "  ytest[labels_test[i], i] = 1"
      ],
      "execution_count": null,
      "outputs": []
    },
    {
      "cell_type": "code",
      "metadata": {
        "colab": {
          "base_uri": "https://localhost:8080/"
        },
        "id": "4LVKZ5c8IBCR",
        "outputId": "a2283886-85ce-4ffa-adad-6d8d9f78ad95"
      },
      "source": [
        "al = nn.evaluate_network_function(xtest)[0][-1]\r\n",
        "y_pred = np.argmax(al, axis=0).flatten()\r\n",
        "y_true = np.array(labels_test)\r\n",
        "score = skm.accuracy_score(y_pred.tolist(), y_true.tolist())\r\n",
        "print('Accuracy score: {:.2f}%'.format(100*score))"
      ],
      "execution_count": null,
      "outputs": [
        {
          "output_type": "stream",
          "text": [
            "Accuracy score: 87.45%\n"
          ],
          "name": "stdout"
        }
      ]
    },
    {
      "cell_type": "markdown",
      "metadata": {
        "id": "kNGrIou377x3"
      },
      "source": [
        "### Sample image testing"
      ]
    },
    {
      "cell_type": "code",
      "metadata": {
        "colab": {
          "base_uri": "https://localhost:8080/",
          "height": 282
        },
        "id": "ocuyePCT6i35",
        "outputId": "6c2eb88d-8f5c-41b4-ff3b-3cb5506d472e"
      },
      "source": [
        "# acquire a random image from the testing set\r\n",
        "sample_image = images_test[np.random.randint(0, len(labels_test)), :].reshape(-1, 1)\r\n",
        "plt.imshow(np.asnumpy(sample_image.reshape(28, 28)), cmap='Greys')"
      ],
      "execution_count": null,
      "outputs": [
        {
          "output_type": "execute_result",
          "data": {
            "text/plain": [
              "<matplotlib.image.AxesImage at 0x7f0fe4a121d0>"
            ]
          },
          "metadata": {
            "tags": []
          },
          "execution_count": 50
        },
        {
          "output_type": "display_data",
          "data": {
            "image/png": "[encoded data removed]",
            "text/plain": [
              "<Figure size 432x288 with 1 Axes>"
            ]
          },
          "metadata": {
            "tags": [],
            "needs_background": "light"
          }
        }
      ]
    },
    {
      "cell_type": "code",
      "metadata": {
        "colab": {
          "base_uri": "https://localhost:8080/",
          "height": 204
        },
        "id": "Sb_NbZXs7Pb2",
        "outputId": "6dedf826-69af-4b61-bafa-fbcf1751f99a"
      },
      "source": [
        "# test the network classifier on the sample image\r\n",
        "sample_image = sample_image/255 # mapping to (0, 1) range\r\n",
        "predicted_values = nn.evaluate_network_function(sample_image)[0][-1].flatten()\r\n",
        "indices = np.argsort(predicted_values)[::-1]\r\n",
        "results = np.vstack((indices, np.round_(predicted_values[indices], 3))).T\r\n",
        "pv = pd.DataFrame(results, columns=['Recognized Digit', 'Confidence Score'])\r\n",
        "pv['Recognized Digit'] = pv['Recognized Digit'].apply(lambda d: int(d))\r\n",
        "pv.head()"
      ],
      "execution_count": null,
      "outputs": [
        {
          "output_type": "execute_result",
          "data": {
            "text/html": [
              "<div>\n",
              "<style scoped>\n",
              "    .dataframe tbody tr th:only-of-type {\n",
              "        vertical-align: middle;\n",
              "    }\n",
              "\n",
              "    .dataframe tbody tr th {\n",
              "        vertical-align: top;\n",
              "    }\n",
              "\n",
              "    .dataframe thead th {\n",
              "        text-align: right;\n",
              "    }\n",
              "</style>\n",
              "<table border=\"1\" class=\"dataframe\">\n",
              "  <thead>\n",
              "    <tr style=\"text-align: right;\">\n",
              "      <th></th>\n",
              "      <th>Recognized Digit</th>\n",
              "      <th>Confidence Score</th>\n",
              "    </tr>\n",
              "  </thead>\n",
              "  <tbody>\n",
              "    <tr>\n",
              "      <th>0</th>\n",
              "      <td>4</td>\n",
              "      <td>1.0</td>\n",
              "    </tr>\n",
              "    <tr>\n",
              "      <th>1</th>\n",
              "      <td>6</td>\n",
              "      <td>0.001</td>\n",
              "    </tr>\n",
              "    <tr>\n",
              "      <th>2</th>\n",
              "      <td>9</td>\n",
              "      <td>0.0</td>\n",
              "    </tr>\n",
              "    <tr>\n",
              "      <th>3</th>\n",
              "      <td>7</td>\n",
              "      <td>0.0</td>\n",
              "    </tr>\n",
              "    <tr>\n",
              "      <th>4</th>\n",
              "      <td>1</td>\n",
              "      <td>0.0</td>\n",
              "    </tr>\n",
              "  </tbody>\n",
              "</table>\n",
              "</div>"
            ],
            "text/plain": [
              "   Recognized Digit Confidence Score\n",
              "0                 4              1.0\n",
              "1                 6            0.001\n",
              "2                 9              0.0\n",
              "3                 7              0.0\n",
              "4                 1              0.0"
            ]
          },
          "metadata": {
            "tags": []
          },
          "execution_count": 51
        }
      ]
    },
    {
      "cell_type": "code",
      "metadata": {
        "id": "esOT3CF_EIXf"
      },
      "source": [
        "drive.flush_and_unmount()"
      ],
      "execution_count": null,
      "outputs": []
    },
    {
      "cell_type": "markdown",
      "metadata": {
        "id": "8jivgID2_wtk"
      },
      "source": [
        "---"
      ]
    }
  ]
}