{
  "nbformat": 4,
  "nbformat_minor": 0,
  "metadata": {
    "colab": {
      "name": "Perceptron.ipynb",
      "provenance": [],
      "collapsed_sections": [],
      "authorship_tag": "ABX9TyPzGNbqExQjPveK0jFiV6pE",
      "include_colab_link": true
    },
    "kernelspec": {
      "name": "python3",
      "display_name": "Python 3"
    },
    "accelerator": "GPU"
  },
  "cells": [
    {
      "cell_type": "markdown",
      "metadata": {
        "id": "view-in-github",
        "colab_type": "text"
      },
      "source": [
        "<a href=\"https://colab.research.google.com/github/mmonem1996/Simple_Dense_Neural_Network/blob/main/Perceptron.ipynb\" target=\"_parent\"><img src=\"https://colab.research.google.com/assets/colab-badge.svg\" alt=\"Open In Colab\"/></a>"
      ]
    },
    {
      "cell_type": "markdown",
      "metadata": {
        "id": "KtUwznSmiAM8"
      },
      "source": [
        "# Backpropagation Algorithm for Fully Connected Neural Network\n",
        "The below code implement a simple algorithm for training a fully connected layers of a neural network via ***NeuralNetwork*** class.\n",
        "\n",
        "The code moves then to apply this class in a simple classification task of idnetifying MNIST hand-written digits.\n",
        "\n",
        "\n"
      ]
    },
    {
      "cell_type": "code",
      "metadata": {
        "id": "NzN7K_V56qcQ"
      },
      "source": [
        "import cupy as np # using GPU CUDA features, substitute to numpy to use CPU\n",
        "from urllib.request import urlretrieve\n",
        "import gzip, json\n",
        "from IPython.display import clear_output\n",
        "from google.colab import drive\n",
        "from shutil import copyfile\n",
        "import sklearn.metrics as skm\n",
        "from sklearn.model_selection import StratifiedShuffleSplit\n",
        "import pandas as pd"
      ],
      "execution_count": 1,
      "outputs": []
    },
    {
      "cell_type": "code",
      "metadata": {
        "id": "Hd5VvFry7PFc"
      },
      "source": [
        "from matplotlib import pyplot as plt \n",
        "%matplotlib inline"
      ],
      "execution_count": 2,
      "outputs": []
    },
    {
      "cell_type": "code",
      "metadata": {
        "id": "cabgF7vcBPHL"
      },
      "source": [
        "drive.mount('/content/gdrive/')"
      ],
      "execution_count": null,
      "outputs": []
    },
    {
      "cell_type": "markdown",
      "metadata": {
        "id": "iJKsLGflBWMl"
      },
      "source": [
        "## Downloading Datasets"
      ]
    },
    {
      "cell_type": "code",
      "metadata": {
        "colab": {
          "base_uri": "https://localhost:8080/"
        },
        "id": "azw0sS38GNck",
        "outputId": "83e14eaf-bd94-4acb-ff7c-1cb382f44920"
      },
      "source": [
        "# downloading training datasets\n",
        "training_images = 'http://yann.lecun.com/exdb/mnist/train-images-idx3-ubyte.gz'\n",
        "training_labels = 'http://yann.lecun.com/exdb/mnist/train-labels-idx1-ubyte.gz'\n",
        "urlretrieve(training_images, '/content/training_images.gz')\n",
        "urlretrieve(training_labels, '/content/training_labels.gz')"
      ],
      "execution_count": 4,
      "outputs": [
        {
          "output_type": "execute_result",
          "data": {
            "text/plain": [
              "('/content/training_labels.gz', <http.client.HTTPMessage at 0x7f953fe5add0>)"
            ]
          },
          "metadata": {},
          "execution_count": 4
        }
      ]
    },
    {
      "cell_type": "code",
      "metadata": {
        "id": "2CXShp7KH6BZ"
      },
      "source": [
        "# unzipping training data\n",
        "with gzip.open('/content/training_images.gz', 'rb') as zfile:\n",
        "  with open('/content/train-images.idx3-ubyte', 'wb') as decompressed:\n",
        "    decompressed.write(zfile.read())\n",
        "\n",
        "with gzip.open('/content/training_labels.gz', 'rb') as zfile:\n",
        "  with open('/content/train-labels.idx1-ubyte', 'wb') as decompressed:\n",
        "    decompressed.write(zfile.read())"
      ],
      "execution_count": 5,
      "outputs": []
    },
    {
      "cell_type": "code",
      "metadata": {
        "colab": {
          "base_uri": "https://localhost:8080/"
        },
        "id": "PDYGFvnLDdeV",
        "outputId": "d366bfbd-7ee7-4332-9852-db47bdab6a29"
      },
      "source": [
        "# downloading testing datasets\n",
        "testing_images = 'http://yann.lecun.com/exdb/mnist/t10k-images-idx3-ubyte.gz'\n",
        "testing_labels = 'http://yann.lecun.com/exdb/mnist/t10k-labels-idx1-ubyte.gz'\n",
        "urlretrieve(testing_images, '/content/testing_images.gz')\n",
        "urlretrieve(testing_labels, '/content/testing_labels.gz')"
      ],
      "execution_count": 6,
      "outputs": [
        {
          "output_type": "execute_result",
          "data": {
            "text/plain": [
              "('/content/testing_labels.gz', <http.client.HTTPMessage at 0x7f953fe6f610>)"
            ]
          },
          "metadata": {},
          "execution_count": 6
        }
      ]
    },
    {
      "cell_type": "code",
      "metadata": {
        "id": "iYrwDGYoD-oo"
      },
      "source": [
        "# unzipping testing data\n",
        "with gzip.open('/content/testing_images.gz', 'rb') as zfile:\n",
        "  with open('/content/tk10-images.idx3-ubyte', 'wb') as decompressed:\n",
        "    decompressed.write(zfile.read())\n",
        "\n",
        "with gzip.open('/content/testing_labels.gz', 'rb') as zfile:\n",
        "  with open('/content/tk10-labels.idx1-ubyte', 'wb') as decompressed:\n",
        "    decompressed.write(zfile.read())"
      ],
      "execution_count": 7,
      "outputs": []
    },
    {
      "cell_type": "markdown",
      "metadata": {
        "id": "jzf3yn8fBzHp"
      },
      "source": [
        "## Auxilary functions"
      ]
    },
    {
      "cell_type": "code",
      "metadata": {
        "id": "V6_0awLQ723k"
      },
      "source": [
        "# activation functions\n",
        "def sigmoid_activation(z):\n",
        "    sigma = 1 / (1 + np.exp(-z))\n",
        "    dsigma = sigma * (1 - sigma)\n",
        "    return sigma, dsigma\n",
        "\n",
        "\n",
        "def relu_activation(z):\n",
        "    zz = np.zeros(z.shape)\n",
        "    zz[z > 0] = 1.0\n",
        "    return z * zz, zz\n",
        "\n",
        "\n",
        "def mse_loss(y, ypred):\n",
        "    C = (y - ypred) @ (y - ypred).T / y.shape[1]\n",
        "    return C.sum(), (-2 / y.shape[1]) * (y - ypred)\n",
        "\n",
        "def log_loss(y, ypred):\n",
        "    n = y.shape[1]\n",
        "    C = (-1/n) * (y * np.log(ypred) + (1 - y) * np.log(np.ones_like(ypred) - ypred))\n",
        "    J = (1/n) * (ypred - y)/(ypred * ( 1 - ypred ))\n",
        "    return C.sum(), J"
      ],
      "execution_count": 8,
      "outputs": []
    },
    {
      "cell_type": "code",
      "metadata": {
        "id": "HffJfLbZ8Yli"
      },
      "source": [
        "# the sturcture of idx3 file is discussed in http://yann.lecun.com/exdb/mnist/\n",
        "def read_idx3_file_images(file: str):\n",
        "  with open(file, 'rb') as idx_file:\n",
        "    idx_file.read(4) # reading out the magic number\n",
        "    num_of_images = int.from_bytes(idx_file.read(4), 'big')\n",
        "    nrows = int.from_bytes(idx_file.read(4), 'big')\n",
        "    ncols = int.from_bytes(idx_file.read(4), 'big')\n",
        "    images = np.zeros((num_of_images, nrows * ncols), dtype=np.uint8)\n",
        "    for i in range(num_of_images):\n",
        "      imi_bytes = list(idx_file.read(nrows * ncols))\n",
        "      imi = np.array(imi_bytes, dtype=np.uint8)\n",
        "      images[i, :] = imi\n",
        "  return images, nrows, ncols"
      ],
      "execution_count": 9,
      "outputs": []
    },
    {
      "cell_type": "code",
      "metadata": {
        "id": "XM54o8YO8dWS"
      },
      "source": [
        "# the sturcture of idx1 file is discussed in http://yann.lecun.com/exdb/mnist/\n",
        "def read_idx1_file_labels(file: str):\n",
        "  with open(file, 'rb') as idx_file:\n",
        "    idx_file.read(8)\n",
        "    labels = list(idx_file.read())\n",
        "  return labels"
      ],
      "execution_count": 10,
      "outputs": []
    },
    {
      "cell_type": "markdown",
      "metadata": {
        "id": "LZw2f0mTAG-0"
      },
      "source": [
        "## Model Training"
      ]
    },
    {
      "cell_type": "code",
      "metadata": {
        "id": "v5YScjAP7nij"
      },
      "source": [
        "class Perceptron:\n",
        "    def __init__(self, input_layer_size, hidden_layers: tuple, output_layer, activation_function='sigmoid',\n",
        "                 loss_function='mse', optimization='full-batch'):\n",
        "        # Setting the optimization parameters\n",
        "        self._hidden_layers =  hidden_layers\n",
        "        self._optimization = optimization\n",
        "        # Setting the neuron activation function\n",
        "        self._activation = lambda z: (z, np.ones_like(z))\n",
        "        if activation_function == 'sigmoid':\n",
        "            self._activation = sigmoid_activation\n",
        "        elif activation_function == 'relu':\n",
        "            self._activation = sigmoid_activation\n",
        "        # setting the loss function\n",
        "        if loss_function == 'log-loss':\n",
        "            self._loss = log_loss\n",
        "        else: \n",
        "            self._loss = mse_loss\n",
        "        # initializing random_weights\n",
        "        layers = [input_layer_size]\n",
        "        layers.extend(hidden_layers)\n",
        "        layers.append(output_layer)\n",
        "        self._weights = []\n",
        "\n",
        "        for i in range(1, len(layers)):\n",
        "            self._weights.append(np.random.uniform(-1, 1, (layers[i], layers[i - 1] + 1)))\n",
        "\n",
        "    def fit(self, X, y, alpha=0, epochs = 100, learning_rate = 0.01):\n",
        "        costs = self._gradient_descend(X, y, alpha, epochs, learning_rate)\n",
        "        return costs\n",
        "\n",
        "    def predict(self, X):\n",
        "        return self._forward_pass(X).T\n",
        "\n",
        "    def _forward_pass(self, X, y=None):\n",
        "        ai = X\n",
        "        dsigma = []\n",
        "        gradients = []\n",
        "        alist = [ai]\n",
        "        for w in self._weights:\n",
        "            ai = np.concatenate((np.ones((1, ai.shape[1])), ai), axis=0)\n",
        "            # print(w.shape)\n",
        "            # print(ai.shape)\n",
        "            z = w @ ai\n",
        "            ai, ds = self._activation(z)\n",
        "            dsigma.append(ds)\n",
        "            alist.append(ai)\n",
        "\n",
        "        al = ai.copy()\n",
        "        if y is None:\n",
        "            return al\n",
        "        C, J = self._loss(y, ai)\n",
        "        for i in range(len(self._weights) - 1, -1, -1):\n",
        "            J = J * dsigma[i]\n",
        "            ai = np.concatenate((np.ones((1, alist[i].shape[1])), alist[i]))\n",
        "            # ai = alist[i]\n",
        "            gradients.insert(0, J @ ai.T) # / alist[i].shape[1]\n",
        "            J = self._weights[i].T @ J\n",
        "            J = J[1:, :]\n",
        "\n",
        "        return al, gradients, C\n",
        "\n",
        "    def _gradient_descend(self, X, y, alpha=0, epochs = 100, learning_rate = 0.01, update_frequency = 10):\n",
        "        if self._optimization == 'full-batch':\n",
        "            costs = []\n",
        "            for i in range(epochs):\n",
        "                _, grads, C = self._forward_pass(X, y)\n",
        "                if (i+1) % update_frequency == 0:\n",
        "                    clear_output(True)\n",
        "                    print('Iteration %d:\\tCost = %0.4f' % ((i + 1), C))\n",
        "                costs.append(C)\n",
        "                for j in range(len(self._weights)):\n",
        "                    self._weights[j] = self._weights[j] - learning_rate * grads[j]\n",
        "                    if alpha != 0:\n",
        "                        penaltyw = self._weights[j]\n",
        "                        penaltyw[:, 0] = 0\n",
        "                        self._weights[j] -= penaltyw * alpha\n",
        "                \n",
        "        elif self._optimization == 'sgd':\n",
        "            costs = []\n",
        "            for i in range(epochs):\n",
        "                for j in range(X.shape[1]):\n",
        "                    _, grads, C = self._forward_pass(X[:,j].reshape(-1, 1), y[:,j].reshape(-1, 1))\n",
        "                    if (i*X.shape[1] + j + 1) % update_frequency == 0:\n",
        "                        clear_output(True)\n",
        "                        print('Iteration %d:\\tCost = %0.4f' % ((i + 1), C))\n",
        "                    costs.append(C)\n",
        "                    for j in range(len(self._weights)):\n",
        "                        self._weights[j] = self._weights[j] - learning_rate * grads[j]\n",
        "                        if alpha != 0:\n",
        "                            penaltyw = self._weights[j]\n",
        "                            penaltyw[:, 0] = 0\n",
        "                            self._weights[j] -= penaltyw * alpha\n",
        "        return costs\n",
        "\n",
        "    def get_serialized_filename(self):\n",
        "        fmt = '{0}layers_NN_'\n",
        "        nHUlayers = len(self._hidden_layers)\n",
        "        for i in range(1, nHUlayers):\n",
        "            fmt += '{' + f'1[{i}]' + '}_'\n",
        "        fmt += 'HU_' + self._activation.__name__ + '_activation.json'\n",
        "        return fmt.format(nHUlayers, self._hidden_layers)\n",
        "\n",
        "    def serialize(self, filename=None):\n",
        "        # Once suitable parameters are reached, it is possible to use this\n",
        "        # function to save them in json file\n",
        "        if filename is None:\n",
        "            filename = self.get_serialized_filename()\n",
        "        with open(filename, 'w') as param_file:\n",
        "            ser_layer_list = []\n",
        "            for wi in self._weights:\n",
        "              wi = wi.tolist()\n",
        "              ser_layer_list.append(wi)\n",
        "            json.dump(ser_layer_list, param_file, indent=2)\n",
        "      \n",
        "\n",
        "    def load_serialized(self, filename=None):\n",
        "      # load saved json file\n",
        "      self._weights = []\n",
        "      if filename is None:\n",
        "          filename = self.get_serialized_filename()\n",
        "      with open(filename, 'r') as param_file:\n",
        "          ser_layer_list = json.load(param_file)\n",
        "          self._weights = []\n",
        "          for wi in ser_layer_list:\n",
        "              wi = np.array(wi)\n",
        "              self._weights.append(wi)"
      ],
      "execution_count": 19,
      "outputs": []
    },
    {
      "cell_type": "code",
      "metadata": {
        "id": "JGxqB9tV8pWh"
      },
      "source": [
        "images, r, c = read_idx3_file_images('/content/train-images.idx3-ubyte')\n",
        "labels = read_idx1_file_labels('/content/train-labels.idx1-ubyte')"
      ],
      "execution_count": 12,
      "outputs": []
    },
    {
      "cell_type": "code",
      "source": [
        "print(len(labels_sampled))"
      ],
      "metadata": {
        "colab": {
          "base_uri": "https://localhost:8080/"
        },
        "id": "wybl4zsc_PdP",
        "outputId": "d47f48e2-cf2b-467a-a225-a8fa9538974f"
      },
      "execution_count": 16,
      "outputs": [
        {
          "output_type": "stream",
          "name": "stdout",
          "text": [
            "59000\n"
          ]
        }
      ]
    },
    {
      "cell_type": "code",
      "metadata": {
        "id": "JiNPZmnA-oOC"
      },
      "source": [
        "# modify size_of_dataset as suitable to hardware, max value is 60000\n",
        "size_of_dataset = 59000\n",
        "sss = StratifiedShuffleSplit(1, test_size=(size_of_dataset / 60000))\n",
        "_, sampled_indices =  next(sss.split(images, labels))\n",
        "x = np.asarray(images.T[:,sampled_indices], dtype=float)\n",
        "labels_sampled = np.array(labels)[sampled_indices]\n",
        "x = x / 255\n",
        "y = np.zeros((10, x.shape[1]))\n",
        "for i in range(x.shape[1]):\n",
        "  y[labels_sampled[i], i] = 1.0\n",
        "# del images"
      ],
      "execution_count": 15,
      "outputs": []
    },
    {
      "cell_type": "code",
      "metadata": {
        "id": "JpWV0qGV-yFI"
      },
      "source": [
        "\n",
        "# print((np.min(x), np.max(x)))\n",
        "# x = (x - np.mean(x, axis=0, keepdims=True))/np.std(x, axis=0, keepdims=True)\n",
        "nn = Perceptron(28 * 28, (300, 300), 10, loss_function='log-loss', activation_function='relu', optimization='sgd')"
      ],
      "execution_count": 20,
      "outputs": []
    },
    {
      "cell_type": "code",
      "metadata": {
        "id": "8rjiQ867-1aK"
      },
      "source": [
        "costs = nn.fit(x, y, epochs=1, learning_rate=0.01)"
      ],
      "execution_count": null,
      "outputs": []
    },
    {
      "cell_type": "code",
      "source": [
        "plt.plot(np.arange(1, len(costs) + 1).tolist(), costs, '--')\n",
        "plt.xlabel('Iterations, i')\n",
        "plt.ylabel('Cost(i)')\n",
        "plt.title('Cost vs Iterations')"
      ],
      "metadata": {
        "id": "pu68W5yU3HqG"
      },
      "execution_count": null,
      "outputs": []
    },
    {
      "cell_type": "code",
      "metadata": {
        "id": "8lAESs2Uz7jk",
        "colab": {
          "base_uri": "https://localhost:8080/"
        },
        "outputId": "16dceabf-e33b-4034-dccf-b39f28809c43"
      },
      "source": [
        "test_index = 10\n",
        "o0 = nn.predict(x[:, test_index].reshape(-1,1))\n",
        "print(np.round_(o0, 4).flatten())\n",
        "print(np.round_(y[:, test_index], 4))"
      ],
      "execution_count": 23,
      "outputs": [
        {
          "output_type": "stream",
          "name": "stdout",
          "text": [
            "[3.000e-04 0.000e+00 9.818e-01 9.000e-04 0.000e+00 0.000e+00 2.400e-03\n",
            " 0.000e+00 2.000e-04 1.050e-02]\n",
            "[0. 0. 1. 0. 0. 0. 0. 0. 0. 0.]\n"
          ]
        }
      ]
    },
    {
      "cell_type": "code",
      "metadata": {
        "colab": {
          "base_uri": "https://localhost:8080/"
        },
        "id": "9uN3Y0XQrVmS",
        "outputId": "9954f404-158e-4eb1-d762-23b46cc623bc"
      },
      "source": [
        "al = nn.predict(x)\n",
        "y_pred = np.argmax(al, axis=1).flatten()\n",
        "y_true = np.array(labels_sampled)\n",
        "score = skm.accuracy_score(y_pred.tolist(), y_true.tolist())\n",
        "print('Accuracy score: {:.2f}%'.format(100*score))"
      ],
      "execution_count": 24,
      "outputs": [
        {
          "output_type": "stream",
          "name": "stdout",
          "text": [
            "Accuracy score: 93.85%\n"
          ]
        }
      ]
    },
    {
      "cell_type": "markdown",
      "metadata": {
        "id": "1w-9VOZP-1k1"
      },
      "source": [
        "---\n",
        "## Loading/Unloading NN parameters\n",
        "The below cells are for loading. modify it to load from your drive or to directly load from the mounted space without using google.drive module."
      ]
    },
    {
      "cell_type": "code",
      "metadata": {
        "id": "VAWGxHSbBk0b"
      },
      "source": [
        "src = '/content/gdrive/My Drive/Colab Notebooks/neural_networks/' + nn.get_serialized_filename()\n",
        "dst = '/content/' + nn.get_serialized_filename()\n",
        "copyfile(src, dst)\n",
        "nn.load_serialized()"
      ],
      "execution_count": null,
      "outputs": []
    },
    {
      "cell_type": "code",
      "metadata": {
        "id": "pOKJ11gVDJEd",
        "colab": {
          "base_uri": "https://localhost:8080/",
          "height": 35
        },
        "outputId": "f01be869-70ce-4edf-c41d-0bd3399b4bf3"
      },
      "source": [
        "nn.serialize()\n",
        "dst = '/content/gdrive/My Drive/Colab Notebooks/neural_networks/' + nn.get_serialized_filename()\n",
        "src = '/content/' + nn.get_serialized_filename()\n",
        "copyfile(src, dst)"
      ],
      "execution_count": null,
      "outputs": [
        {
          "output_type": "execute_result",
          "data": {
            "application/vnd.google.colaboratory.intrinsic+json": {
              "type": "string"
            },
            "text/plain": [
              "'/content/gdrive/My Drive/Colab Notebooks/neural_networks/3layers_NN_500_150_HU_logistic_activation.json'"
            ]
          },
          "metadata": {
            "tags": []
          },
          "execution_count": 72
        }
      ]
    },
    {
      "cell_type": "markdown",
      "metadata": {
        "id": "qEyaFGj1DYZq"
      },
      "source": [
        "---\n",
        "## Model Testing"
      ]
    },
    {
      "cell_type": "code",
      "metadata": {
        "id": "SteKPXe2HfNa"
      },
      "source": [
        "images_test, r, c = read_idx3_file_images('/content/tk10-images.idx3-ubyte')\n",
        "labels_test = read_idx1_file_labels('/content/tk10-labels.idx1-ubyte')"
      ],
      "execution_count": 26,
      "outputs": []
    },
    {
      "cell_type": "code",
      "metadata": {
        "id": "4TGN2EmwHNCj",
        "colab": {
          "base_uri": "https://localhost:8080/"
        },
        "outputId": "44eb3522-ecaa-4805-d863-e5d60b2be91d"
      },
      "source": [
        "# modify size_of_dataset as suitable to hardware, max value is 60000\n",
        "xtest = np.asarray(images_test.T[:,:], dtype=np.float)\n",
        "xtest = xtest / 255\n",
        "ytest = np.zeros((10, len(labels_test)))\n",
        "for i in range(len(labels_test)):\n",
        "  ytest[labels_test[i], i] = 1"
      ],
      "execution_count": 27,
      "outputs": [
        {
          "output_type": "stream",
          "name": "stderr",
          "text": [
            "/usr/local/lib/python3.7/dist-packages/ipykernel_launcher.py:2: DeprecationWarning: `cupy.float` is a deprecated alias for the Python scalar type `float`. Please use the builtin `float` or its corresponding NumPy scalar type `cupy.float_` instead.\n",
            "  \n"
          ]
        }
      ]
    },
    {
      "cell_type": "code",
      "metadata": {
        "colab": {
          "base_uri": "https://localhost:8080/"
        },
        "id": "4LVKZ5c8IBCR",
        "outputId": "207205e3-9c6a-4697-848b-82a5e7d961ee"
      },
      "source": [
        "al = nn.predict(xtest)\n",
        "y_pred = np.argmax(al, axis=1).flatten()\n",
        "y_true = np.array(labels_test)\n",
        "score = skm.accuracy_score(y_pred.tolist(), y_true.tolist())\n",
        "print('Accuracy score: {:.2f}%'.format(100*score))"
      ],
      "execution_count": 28,
      "outputs": [
        {
          "output_type": "stream",
          "name": "stdout",
          "text": [
            "Accuracy score: 93.37%\n"
          ]
        }
      ]
    },
    {
      "cell_type": "markdown",
      "metadata": {
        "id": "kNGrIou377x3"
      },
      "source": [
        "### Sample image testing"
      ]
    },
    {
      "cell_type": "code",
      "metadata": {
        "colab": {
          "base_uri": "https://localhost:8080/",
          "height": 282
        },
        "id": "ocuyePCT6i35",
        "outputId": "33b8c743-6c9f-4e00-a6f0-6f232127bdfb"
      },
      "source": [
        "# acquire a random image from the testing set\n",
        "sample_image = images_test[np.random.randint(0, len(labels_test)), :].reshape(-1, 1)\n",
        "plt.imshow(np.asnumpy(sample_image.reshape(28, 28)), cmap='Greys')"
      ],
      "execution_count": 31,
      "outputs": [
        {
          "output_type": "execute_result",
          "data": {
            "text/plain": [
              "<matplotlib.image.AxesImage at 0x7f953c444390>"
            ]
          },
          "metadata": {},
          "execution_count": 31
        },
        {
          "output_type": "display_data",
          "data": {
            "image/png": "[encoded data removed]",
            "text/plain": [
              "<Figure size 432x288 with 1 Axes>"
            ]
          },
          "metadata": {
            "needs_background": "light"
          }
        }
      ]
    },
    {
      "cell_type": "code",
      "metadata": {
        "colab": {
          "base_uri": "https://localhost:8080/",
          "height": 206
        },
        "id": "Sb_NbZXs7Pb2",
        "outputId": "3617fe3a-142f-4dc4-d32f-84c74e544333"
      },
      "source": [
        "# test the network classifier on the sample image\n",
        "sample_image = sample_image/255 # mapping to (0, 1) range\n",
        "predicted_values = nn.predict(sample_image).flatten()\n",
        "indices = np.argsort(predicted_values)[::-1]\n",
        "results = np.vstack((indices, np.round_(predicted_values[indices], 3))).T\n",
        "pv = pd.DataFrame(results, columns=['Recognized Digit', 'Confidence Score'])\n",
        "pv['Recognized Digit'] = pv['Recognized Digit'].apply(lambda d: int(d))\n",
        "pv.head()"
      ],
      "execution_count": 32,
      "outputs": [
        {
          "output_type": "execute_result",
          "data": {
            "text/html": [
              "\n",
              "  <div id=\"df-06037acb-6c9a-4af5-9a21-08d1d09c908c\">\n",
              "    <div class=\"colab-df-container\">\n",
              "      <div>\n",
              "<style scoped>\n",
              "    .dataframe tbody tr th:only-of-type {\n",
              "        vertical-align: middle;\n",
              "    }\n",
              "\n",
              "    .dataframe tbody tr th {\n",
              "        vertical-align: top;\n",
              "    }\n",
              "\n",
              "    .dataframe thead th {\n",
              "        text-align: right;\n",
              "    }\n",
              "</style>\n",
              "<table border=\"1\" class=\"dataframe\">\n",
              "  <thead>\n",
              "    <tr style=\"text-align: right;\">\n",
              "      <th></th>\n",
              "      <th>Recognized Digit</th>\n",
              "      <th>Confidence Score</th>\n",
              "    </tr>\n",
              "  </thead>\n",
              "  <tbody>\n",
              "    <tr>\n",
              "      <th>0</th>\n",
              "      <td>8</td>\n",
              "      <td>0.992</td>\n",
              "    </tr>\n",
              "    <tr>\n",
              "      <th>1</th>\n",
              "      <td>2</td>\n",
              "      <td>0.031</td>\n",
              "    </tr>\n",
              "    <tr>\n",
              "      <th>2</th>\n",
              "      <td>3</td>\n",
              "      <td>0.026</td>\n",
              "    </tr>\n",
              "    <tr>\n",
              "      <th>3</th>\n",
              "      <td>5</td>\n",
              "      <td>0.023</td>\n",
              "    </tr>\n",
              "    <tr>\n",
              "      <th>4</th>\n",
              "      <td>4</td>\n",
              "      <td>0.004</td>\n",
              "    </tr>\n",
              "  </tbody>\n",
              "</table>\n",
              "</div>\n",
              "      <button class=\"colab-df-convert\" onclick=\"convertToInteractive('df-06037acb-6c9a-4af5-9a21-08d1d09c908c')\"\n",
              "              title=\"Convert this dataframe to an interactive table.\"\n",
              "              style=\"display:none;\">\n",
              "        \n",
              "  <svg xmlns=\"http://www.w3.org/2000/svg\" height=\"24px\"viewBox=\"0 0 24 24\"\n",
              "       width=\"24px\">\n",
              "    <path d=\"M0 0h24v24H0V0z\" fill=\"none\"/>\n",
              "    <path d=\"M18.56 5.44l.94 2.06.94-2.06 2.06-.94-2.06-.94-.94-2.06-.94 2.06-2.06.94zm-11 1L8.5 8.5l.94-2.06 2.06-.94-2.06-.94L8.5 2.5l-.94 2.06-2.06.94zm10 10l.94 2.06.94-2.06 2.06-.94-2.06-.94-.94-2.06-.94 2.06-2.06.94z\"/><path d=\"M17.41 7.96l-1.37-1.37c-.4-.4-.92-.59-1.43-.59-.52 0-1.04.2-1.43.59L10.3 9.45l-7.72 7.72c-.78.78-.78 2.05 0 2.83L4 21.41c.39.39.9.59 1.41.59.51 0 1.02-.2 1.41-.59l7.78-7.78 2.81-2.81c.8-.78.8-2.07 0-2.86zM5.41 20L4 18.59l7.72-7.72 1.47 1.35L5.41 20z\"/>\n",
              "  </svg>\n",
              "      </button>\n",
              "      \n",
              "  <style>\n",
              "    .colab-df-container {\n",
              "      display:flex;\n",
              "      flex-wrap:wrap;\n",
              "      gap: 12px;\n",
              "    }\n",
              "\n",
              "    .colab-df-convert {\n",
              "      background-color: #E8F0FE;\n",
              "      border: none;\n",
              "      border-radius: 50%;\n",
              "      cursor: pointer;\n",
              "      display: none;\n",
              "      fill: #1967D2;\n",
              "      height: 32px;\n",
              "      padding: 0 0 0 0;\n",
              "      width: 32px;\n",
              "    }\n",
              "\n",
              "    .colab-df-convert:hover {\n",
              "      background-color: #E2EBFA;\n",
              "      box-shadow: 0px 1px 2px rgba(60, 64, 67, 0.3), 0px 1px 3px 1px rgba(60, 64, 67, 0.15);\n",
              "      fill: #174EA6;\n",
              "    }\n",
              "\n",
              "    [theme=dark] .colab-df-convert {\n",
              "      background-color: #3B4455;\n",
              "      fill: #D2E3FC;\n",
              "    }\n",
              "\n",
              "    [theme=dark] .colab-df-convert:hover {\n",
              "      background-color: #434B5C;\n",
              "      box-shadow: 0px 1px 3px 1px rgba(0, 0, 0, 0.15);\n",
              "      filter: drop-shadow(0px 1px 2px rgba(0, 0, 0, 0.3));\n",
              "      fill: #FFFFFF;\n",
              "    }\n",
              "  </style>\n",
              "\n",
              "      <script>\n",
              "        const buttonEl =\n",
              "          document.querySelector('#df-06037acb-6c9a-4af5-9a21-08d1d09c908c button.colab-df-convert');\n",
              "        buttonEl.style.display =\n",
              "          google.colab.kernel.accessAllowed ? 'block' : 'none';\n",
              "\n",
              "        async function convertToInteractive(key) {\n",
              "          const element = document.querySelector('#df-06037acb-6c9a-4af5-9a21-08d1d09c908c');\n",
              "          const dataTable =\n",
              "            await google.colab.kernel.invokeFunction('convertToInteractive',\n",
              "                                                     [key], {});\n",
              "          if (!dataTable) return;\n",
              "\n",
              "          const docLinkHtml = 'Like what you see? Visit the ' +\n",
              "            '<a target=\"_blank\" href=https://colab.research.google.com/notebooks/data_table.ipynb>data table notebook</a>'\n",
              "            + ' to learn more about interactive tables.';\n",
              "          element.innerHTML = '';\n",
              "          dataTable['output_type'] = 'display_data';\n",
              "          await google.colab.output.renderOutput(dataTable, element);\n",
              "          const docLink = document.createElement('div');\n",
              "          docLink.innerHTML = docLinkHtml;\n",
              "          element.appendChild(docLink);\n",
              "        }\n",
              "      </script>\n",
              "    </div>\n",
              "  </div>\n",
              "  "
            ],
            "text/plain": [
              "   Recognized Digit Confidence Score\n",
              "0                 8            0.992\n",
              "1                 2            0.031\n",
              "2                 3            0.026\n",
              "3                 5            0.023\n",
              "4                 4            0.004"
            ]
          },
          "metadata": {},
          "execution_count": 32
        }
      ]
    },
    {
      "cell_type": "code",
      "metadata": {
        "id": "esOT3CF_EIXf"
      },
      "source": [
        "drive.flush_and_unmount()"
      ],
      "execution_count": null,
      "outputs": []
    },
    {
      "cell_type": "markdown",
      "metadata": {
        "id": "8jivgID2_wtk"
      },
      "source": [
        "---"
      ]
    }
  ]
}